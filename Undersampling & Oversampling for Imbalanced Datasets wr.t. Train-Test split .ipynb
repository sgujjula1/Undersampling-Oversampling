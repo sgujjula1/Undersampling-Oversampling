{
 "cells": [
  {
   "cell_type": "code",
   "execution_count": 89,
   "metadata": {},
   "outputs": [],
   "source": [
    "import pandas as pd\n",
    "from sklearn.model_selection import train_test_split\n",
    "from sklearn.linear_model import LogisticRegression\n",
    "from sklearn.metrics import classification_report\n",
    "import seaborn as sns\n",
    "import matplotlib.pyplot as plt\n",
    "# ^^^ pyforest auto-imports - don't write above this line\n",
    "\n",
    "import warnings\n",
    "warnings.filterwarnings(\"ignore\")"
   ]
  },
  {
   "cell_type": "code",
   "execution_count": 90,
   "metadata": {},
   "outputs": [
    {
     "name": "stdout",
     "output_type": "stream",
     "text": [
      "(14249, 10)\n"
     ]
    },
    {
     "data": {
      "text/html": [
       "<div>\n",
       "<style scoped>\n",
       "    .dataframe tbody tr th:only-of-type {\n",
       "        vertical-align: middle;\n",
       "    }\n",
       "\n",
       "    .dataframe tbody tr th {\n",
       "        vertical-align: top;\n",
       "    }\n",
       "\n",
       "    .dataframe thead th {\n",
       "        text-align: right;\n",
       "    }\n",
       "</style>\n",
       "<table border=\"1\" class=\"dataframe\">\n",
       "  <thead>\n",
       "    <tr style=\"text-align: right;\">\n",
       "      <th></th>\n",
       "      <th>avg_monthly_hrs</th>\n",
       "      <th>department</th>\n",
       "      <th>filed_complaint</th>\n",
       "      <th>last_evaluation</th>\n",
       "      <th>n_projects</th>\n",
       "      <th>recently_promoted</th>\n",
       "      <th>salary</th>\n",
       "      <th>satisfaction</th>\n",
       "      <th>status</th>\n",
       "      <th>tenure</th>\n",
       "    </tr>\n",
       "  </thead>\n",
       "  <tbody>\n",
       "    <tr>\n",
       "      <th>2817</th>\n",
       "      <td>155</td>\n",
       "      <td>sales</td>\n",
       "      <td>NaN</td>\n",
       "      <td>0.434123</td>\n",
       "      <td>2</td>\n",
       "      <td>NaN</td>\n",
       "      <td>low</td>\n",
       "      <td>0.439222</td>\n",
       "      <td>Left</td>\n",
       "      <td>3.0</td>\n",
       "    </tr>\n",
       "    <tr>\n",
       "      <th>11468</th>\n",
       "      <td>123</td>\n",
       "      <td>sales</td>\n",
       "      <td>NaN</td>\n",
       "      <td>0.347341</td>\n",
       "      <td>3</td>\n",
       "      <td>NaN</td>\n",
       "      <td>medium</td>\n",
       "      <td>0.439556</td>\n",
       "      <td>Employed</td>\n",
       "      <td>2.0</td>\n",
       "    </tr>\n",
       "    <tr>\n",
       "      <th>9109</th>\n",
       "      <td>143</td>\n",
       "      <td>sales</td>\n",
       "      <td>NaN</td>\n",
       "      <td>0.735270</td>\n",
       "      <td>3</td>\n",
       "      <td>NaN</td>\n",
       "      <td>medium</td>\n",
       "      <td>0.511181</td>\n",
       "      <td>Employed</td>\n",
       "      <td>4.0</td>\n",
       "    </tr>\n",
       "    <tr>\n",
       "      <th>7899</th>\n",
       "      <td>259</td>\n",
       "      <td>engineering</td>\n",
       "      <td>NaN</td>\n",
       "      <td>0.505883</td>\n",
       "      <td>5</td>\n",
       "      <td>NaN</td>\n",
       "      <td>low</td>\n",
       "      <td>0.631046</td>\n",
       "      <td>Employed</td>\n",
       "      <td>4.0</td>\n",
       "    </tr>\n",
       "    <tr>\n",
       "      <th>8806</th>\n",
       "      <td>168</td>\n",
       "      <td>engineering</td>\n",
       "      <td>NaN</td>\n",
       "      <td>0.646604</td>\n",
       "      <td>4</td>\n",
       "      <td>NaN</td>\n",
       "      <td>low</td>\n",
       "      <td>0.750448</td>\n",
       "      <td>Employed</td>\n",
       "      <td>3.0</td>\n",
       "    </tr>\n",
       "    <tr>\n",
       "      <th>12313</th>\n",
       "      <td>179</td>\n",
       "      <td>management</td>\n",
       "      <td>NaN</td>\n",
       "      <td>0.778958</td>\n",
       "      <td>4</td>\n",
       "      <td>NaN</td>\n",
       "      <td>high</td>\n",
       "      <td>0.830825</td>\n",
       "      <td>Employed</td>\n",
       "      <td>3.0</td>\n",
       "    </tr>\n",
       "    <tr>\n",
       "      <th>8901</th>\n",
       "      <td>219</td>\n",
       "      <td>sales</td>\n",
       "      <td>NaN</td>\n",
       "      <td>0.828665</td>\n",
       "      <td>2</td>\n",
       "      <td>NaN</td>\n",
       "      <td>low</td>\n",
       "      <td>1.000000</td>\n",
       "      <td>Employed</td>\n",
       "      <td>4.0</td>\n",
       "    </tr>\n",
       "    <tr>\n",
       "      <th>6614</th>\n",
       "      <td>173</td>\n",
       "      <td>support</td>\n",
       "      <td>NaN</td>\n",
       "      <td>0.909850</td>\n",
       "      <td>4</td>\n",
       "      <td>NaN</td>\n",
       "      <td>low</td>\n",
       "      <td>0.713828</td>\n",
       "      <td>Employed</td>\n",
       "      <td>4.0</td>\n",
       "    </tr>\n",
       "    <tr>\n",
       "      <th>10339</th>\n",
       "      <td>160</td>\n",
       "      <td>sales</td>\n",
       "      <td>NaN</td>\n",
       "      <td>0.996709</td>\n",
       "      <td>4</td>\n",
       "      <td>NaN</td>\n",
       "      <td>low</td>\n",
       "      <td>0.587482</td>\n",
       "      <td>Employed</td>\n",
       "      <td>3.0</td>\n",
       "    </tr>\n",
       "    <tr>\n",
       "      <th>8071</th>\n",
       "      <td>159</td>\n",
       "      <td>engineering</td>\n",
       "      <td>NaN</td>\n",
       "      <td>0.599927</td>\n",
       "      <td>2</td>\n",
       "      <td>NaN</td>\n",
       "      <td>high</td>\n",
       "      <td>0.437425</td>\n",
       "      <td>Left</td>\n",
       "      <td>3.0</td>\n",
       "    </tr>\n",
       "  </tbody>\n",
       "</table>\n",
       "</div>"
      ],
      "text/plain": [
       "       avg_monthly_hrs   department  filed_complaint  last_evaluation  \\\n",
       "2817               155        sales              NaN         0.434123   \n",
       "11468              123        sales              NaN         0.347341   \n",
       "9109               143        sales              NaN         0.735270   \n",
       "7899               259  engineering              NaN         0.505883   \n",
       "8806               168  engineering              NaN         0.646604   \n",
       "12313              179   management              NaN         0.778958   \n",
       "8901               219        sales              NaN         0.828665   \n",
       "6614               173      support              NaN         0.909850   \n",
       "10339              160        sales              NaN         0.996709   \n",
       "8071               159  engineering              NaN         0.599927   \n",
       "\n",
       "       n_projects  recently_promoted  salary  satisfaction    status  tenure  \n",
       "2817            2                NaN     low      0.439222      Left     3.0  \n",
       "11468           3                NaN  medium      0.439556  Employed     2.0  \n",
       "9109            3                NaN  medium      0.511181  Employed     4.0  \n",
       "7899            5                NaN     low      0.631046  Employed     4.0  \n",
       "8806            4                NaN     low      0.750448  Employed     3.0  \n",
       "12313           4                NaN    high      0.830825  Employed     3.0  \n",
       "8901            2                NaN     low      1.000000  Employed     4.0  \n",
       "6614            4                NaN     low      0.713828  Employed     4.0  \n",
       "10339           4                NaN     low      0.587482  Employed     3.0  \n",
       "8071            2                NaN    high      0.437425      Left     3.0  "
      ]
     },
     "execution_count": 90,
     "metadata": {},
     "output_type": "execute_result"
    }
   ],
   "source": [
    "df= pd.read_csv(r'C:\\Users\\SGujjula\\OneDrive - Ashley Furniture Industries, Inc\\Work\\Personal Work\\Pros & Cons of Undersamping & Oversampling\\Data\\employee_data.csv')\n",
    "print(df.shape)\n",
    "df.sample(10)"
   ]
  },
  {
   "cell_type": "markdown",
   "metadata": {},
   "source": [
    "#### ----Missing values----"
   ]
  },
  {
   "cell_type": "code",
   "execution_count": 91,
   "metadata": {},
   "outputs": [
    {
     "name": "stdout",
     "output_type": "stream",
     "text": [
      "Shape of df before handling missing values: (14249, 10)\n",
      "avg_monthly_hrs          0\n",
      "department             709\n",
      "filed_complaint      12191\n",
      "last_evaluation       1532\n",
      "n_projects               0\n",
      "recently_promoted    13949\n",
      "salary                   0\n",
      "satisfaction           181\n",
      "status                   0\n",
      "tenure                 181\n",
      "dtype: int64 \n",
      "\n",
      "Shape of df after handling missing values: (12075, 8)\n",
      "avg_monthly_hrs    0\n",
      "department         0\n",
      "last_evaluation    0\n",
      "n_projects         0\n",
      "salary             0\n",
      "satisfaction       0\n",
      "status             0\n",
      "tenure             0\n",
      "dtype: int64\n"
     ]
    }
   ],
   "source": [
    "print(\"Shape of df before handling missing values:\", df.shape)\n",
    "print(df.isna().sum(), \"\\n\")\n",
    "\n",
    "#remove columns 'filed_complaint' & 'recently_promoted' because the columns majority is null values. \n",
    "df.drop(['filed_complaint','recently_promoted'], axis=1, inplace=True)\n",
    "#remove nulls from remaining columns\n",
    "df.dropna(axis=0, inplace=True)\n",
    "df= df.reset_index(drop=True)\n",
    "\n",
    "print(\"Shape of df after handling missing values:\", df.shape)\n",
    "print(df.isna().sum())\n"
   ]
  },
  {
   "cell_type": "markdown",
   "metadata": {},
   "source": [
    "#### -----Data transformations-----"
   ]
  },
  {
   "cell_type": "code",
   "execution_count": 92,
   "metadata": {},
   "outputs": [
    {
     "name": "stdout",
     "output_type": "stream",
     "text": [
      "Salary before Label Encoding\n",
      "low       5880\n",
      "medium    5225\n",
      "high       970\n",
      "Name: salary, dtype: int64\n",
      "\n",
      "\n",
      "Salary after Label Encoding\n",
      "0    5880\n",
      "1    5225\n",
      "2     970\n",
      "Name: salary, dtype: int64\n"
     ]
    }
   ],
   "source": [
    "#--------Label Encoding for 'salary'\n",
    "#Since the categorical feature- salary is ordinal, we could use Label Encoding instead of One-Hot Encoding\n",
    "print('Salary before Label Encoding')\n",
    "print(df.salary.value_counts())\n",
    "\n",
    "salary_dict={'low':0, 'medium':1, 'high':2}\n",
    "df.salary=df.salary.map(salary_dict)\n",
    "\n",
    "print('\\n')\n",
    "print('Salary after Label Encoding')\n",
    "print(df.salary.value_counts())\n"
   ]
  },
  {
   "cell_type": "code",
   "execution_count": 93,
   "metadata": {},
   "outputs": [
    {
     "data": {
      "text/html": [
       "<div>\n",
       "<style scoped>\n",
       "    .dataframe tbody tr th:only-of-type {\n",
       "        vertical-align: middle;\n",
       "    }\n",
       "\n",
       "    .dataframe tbody tr th {\n",
       "        vertical-align: top;\n",
       "    }\n",
       "\n",
       "    .dataframe thead th {\n",
       "        text-align: right;\n",
       "    }\n",
       "</style>\n",
       "<table border=\"1\" class=\"dataframe\">\n",
       "  <thead>\n",
       "    <tr style=\"text-align: right;\">\n",
       "      <th></th>\n",
       "      <th>avg_monthly_hrs</th>\n",
       "      <th>last_evaluation</th>\n",
       "      <th>n_projects</th>\n",
       "      <th>salary</th>\n",
       "      <th>satisfaction</th>\n",
       "      <th>status</th>\n",
       "      <th>tenure</th>\n",
       "      <th>IT</th>\n",
       "      <th>admin</th>\n",
       "      <th>engineering</th>\n",
       "      <th>finance</th>\n",
       "      <th>information_technology</th>\n",
       "      <th>management</th>\n",
       "      <th>marketing</th>\n",
       "      <th>procurement</th>\n",
       "      <th>product</th>\n",
       "      <th>sales</th>\n",
       "      <th>support</th>\n",
       "    </tr>\n",
       "  </thead>\n",
       "  <tbody>\n",
       "    <tr>\n",
       "      <th>1421</th>\n",
       "      <td>219</td>\n",
       "      <td>0.635866</td>\n",
       "      <td>3</td>\n",
       "      <td>0</td>\n",
       "      <td>0.683058</td>\n",
       "      <td>Employed</td>\n",
       "      <td>2.0</td>\n",
       "      <td>0</td>\n",
       "      <td>0</td>\n",
       "      <td>0</td>\n",
       "      <td>1</td>\n",
       "      <td>0</td>\n",
       "      <td>0</td>\n",
       "      <td>0</td>\n",
       "      <td>0</td>\n",
       "      <td>0</td>\n",
       "      <td>0</td>\n",
       "      <td>0</td>\n",
       "    </tr>\n",
       "    <tr>\n",
       "      <th>2363</th>\n",
       "      <td>275</td>\n",
       "      <td>0.900012</td>\n",
       "      <td>4</td>\n",
       "      <td>1</td>\n",
       "      <td>0.829037</td>\n",
       "      <td>Left</td>\n",
       "      <td>5.0</td>\n",
       "      <td>0</td>\n",
       "      <td>0</td>\n",
       "      <td>0</td>\n",
       "      <td>0</td>\n",
       "      <td>0</td>\n",
       "      <td>0</td>\n",
       "      <td>0</td>\n",
       "      <td>0</td>\n",
       "      <td>0</td>\n",
       "      <td>1</td>\n",
       "      <td>0</td>\n",
       "    </tr>\n",
       "    <tr>\n",
       "      <th>7839</th>\n",
       "      <td>161</td>\n",
       "      <td>0.504843</td>\n",
       "      <td>5</td>\n",
       "      <td>1</td>\n",
       "      <td>0.659063</td>\n",
       "      <td>Employed</td>\n",
       "      <td>2.0</td>\n",
       "      <td>0</td>\n",
       "      <td>0</td>\n",
       "      <td>0</td>\n",
       "      <td>0</td>\n",
       "      <td>0</td>\n",
       "      <td>0</td>\n",
       "      <td>0</td>\n",
       "      <td>0</td>\n",
       "      <td>0</td>\n",
       "      <td>1</td>\n",
       "      <td>0</td>\n",
       "    </tr>\n",
       "    <tr>\n",
       "      <th>5451</th>\n",
       "      <td>259</td>\n",
       "      <td>0.802212</td>\n",
       "      <td>6</td>\n",
       "      <td>0</td>\n",
       "      <td>0.166055</td>\n",
       "      <td>Employed</td>\n",
       "      <td>3.0</td>\n",
       "      <td>0</td>\n",
       "      <td>0</td>\n",
       "      <td>0</td>\n",
       "      <td>0</td>\n",
       "      <td>0</td>\n",
       "      <td>0</td>\n",
       "      <td>0</td>\n",
       "      <td>0</td>\n",
       "      <td>0</td>\n",
       "      <td>0</td>\n",
       "      <td>1</td>\n",
       "    </tr>\n",
       "    <tr>\n",
       "      <th>8631</th>\n",
       "      <td>224</td>\n",
       "      <td>0.726686</td>\n",
       "      <td>4</td>\n",
       "      <td>1</td>\n",
       "      <td>0.847842</td>\n",
       "      <td>Employed</td>\n",
       "      <td>3.0</td>\n",
       "      <td>0</td>\n",
       "      <td>0</td>\n",
       "      <td>0</td>\n",
       "      <td>0</td>\n",
       "      <td>0</td>\n",
       "      <td>0</td>\n",
       "      <td>0</td>\n",
       "      <td>0</td>\n",
       "      <td>0</td>\n",
       "      <td>1</td>\n",
       "      <td>0</td>\n",
       "    </tr>\n",
       "  </tbody>\n",
       "</table>\n",
       "</div>"
      ],
      "text/plain": [
       "      avg_monthly_hrs  last_evaluation  n_projects  salary  satisfaction  \\\n",
       "1421              219         0.635866           3       0      0.683058   \n",
       "2363              275         0.900012           4       1      0.829037   \n",
       "7839              161         0.504843           5       1      0.659063   \n",
       "5451              259         0.802212           6       0      0.166055   \n",
       "8631              224         0.726686           4       1      0.847842   \n",
       "\n",
       "        status  tenure  IT  admin  engineering  finance  \\\n",
       "1421  Employed     2.0   0      0            0        1   \n",
       "2363      Left     5.0   0      0            0        0   \n",
       "7839  Employed     2.0   0      0            0        0   \n",
       "5451  Employed     3.0   0      0            0        0   \n",
       "8631  Employed     3.0   0      0            0        0   \n",
       "\n",
       "      information_technology  management  marketing  procurement  product  \\\n",
       "1421                       0           0          0            0        0   \n",
       "2363                       0           0          0            0        0   \n",
       "7839                       0           0          0            0        0   \n",
       "5451                       0           0          0            0        0   \n",
       "8631                       0           0          0            0        0   \n",
       "\n",
       "      sales  support  \n",
       "1421      0        0  \n",
       "2363      1        0  \n",
       "7839      1        0  \n",
       "5451      0        1  \n",
       "8631      1        0  "
      ]
     },
     "execution_count": 93,
     "metadata": {},
     "output_type": "execute_result"
    }
   ],
   "source": [
    "#---------One-Hot Encoding for 'department'-------- \n",
    "df= pd.concat([df.drop('department', axis=1),pd.get_dummies(df.department)], axis=1)\n",
    "\n",
    "df.sample(5)"
   ]
  },
  {
   "cell_type": "code",
   "execution_count": 94,
   "metadata": {},
   "outputs": [
    {
     "name": "stdout",
     "output_type": "stream",
     "text": [
      "Status before Binary Encoding\n",
      "Employed    9125\n",
      "Left        2950\n",
      "Name: status, dtype: int64\n",
      "\n",
      "\n",
      "Status after Binary Encoding\n",
      "0    9125\n",
      "1    2950\n",
      "Name: status_binary, dtype: int64\n"
     ]
    }
   ],
   "source": [
    "#------Binary Label Encoding for 'status'-------\n",
    "#df_train['status_new']= LabelEncoder().fit_transform(df_train.status)\n",
    "\n",
    "\n",
    "print('Status before Binary Encoding')\n",
    "print(df.status.value_counts())\n",
    "\n",
    "status_dict= {'Left':1, \"Employed\":0}\n",
    "df['status_binary']=df.status.map(status_dict)\n",
    "\n",
    "print('\\n')\n",
    "print('Status after Binary Encoding')\n",
    "print(df.status_binary.value_counts())"
   ]
  },
  {
   "cell_type": "markdown",
   "metadata": {},
   "source": [
    "#### -----Data Exploring-----"
   ]
  },
  {
   "cell_type": "code",
   "execution_count": 95,
   "metadata": {},
   "outputs": [
    {
     "data": {
      "image/png": "[encoded data removed]",
      "text/plain": [
       "<Figure size 432x288 with 1 Axes>"
      ]
     },
     "metadata": {},
     "output_type": "display_data"
    }
   ],
   "source": [
    "temp= pd.DataFrame(df.status.value_counts().reset_index()\n",
    "                   .rename({'index': 'Status', 'status': 'Employee count'}, axis=1))\n",
    "\n",
    "\n",
    "sns.set_style(\"whitegrid\")\n",
    "ax=sns.barplot(x = 'Status', y = 'Employee count',data = temp)\n",
    "ax.bar_label(ax.containers[0])\n",
    "ax.set_title('Dataframe Label Distribution at glance', fontsize=13)\n",
    "plt.show()"
   ]
  },
  {
   "cell_type": "markdown",
   "metadata": {},
   "source": [
    "## UnderSampling"
   ]
  },
  {
   "cell_type": "markdown",
   "metadata": {},
   "source": [
    "###### Defining some iterative functions "
   ]
  },
  {
   "cell_type": "code",
   "execution_count": 150,
   "metadata": {},
   "outputs": [],
   "source": [
    "#Undersampling by removing majority samples\n",
    "def Undersampling(dataframe):\n",
    "\n",
    "    employed, left = dataframe.status_binary.value_counts()\n",
    "\n",
    "    temp1=dataframe[dataframe['status_binary']==0].sample(left)\n",
    "    temp2=dataframe[dataframe['status_binary']==1]\n",
    "\n",
    "    df_under= pd.concat([temp1, temp2], axis=0)\n",
    "    print(\"Shape of the Undersampled dataframe: \",df_under.shape)\n",
    "    print(\"Prediction Label counts\")\n",
    "    print(df_under.status_binary.value_counts())\n",
    "    \n",
    "    return df_under\n",
    "\n",
    "\n",
    "#Oversampling by removing majority samples\n",
    "def Oversampling(dataframe):\n",
    "\n",
    "    employed, left = dataframe.status_binary.value_counts()\n",
    "\n",
    "    temp1=dataframe[dataframe['status_binary']==0]\n",
    "    temp2=dataframe[dataframe['status_binary']==1].sample(employed, replace=True)\n",
    "\n",
    "    df_over= pd.concat([temp1, temp2], axis=0)\n",
    "    print(\"Shape of the Oversampled dataframe: \",df_over.shape)\n",
    "    print(\"Prediction Label counts\")\n",
    "    print(df_over.status_binary.value_counts())\n",
    "    \n",
    "    return df_over\n",
    "\n",
    "\n",
    "#Train Test Split\n",
    "def Train_Test_Split(dataframe):\n",
    "    \n",
    "    X,y = dataframe.drop(['status_binary','status'], axis=1), dataframe['status_binary']\n",
    "    X_train, X_test, y_train, y_test = train_test_split(X, y, test_size=0.20, random_state=42, stratify= y)\n",
    "    \n",
    "    #print(\"Train data shape:\", X_train.shape, y_train.shape)\n",
    "    #print('Train data labels shape:\\n', y_train.value_counts())\n",
    "    #print(\"\\n\")\n",
    "    #print(\"Test data shape:\", X_test.shape, y_test.shape)\n",
    "    #print('Test data labels shape:\\n', y_test.value_counts())    \n",
    "    \n",
    "    return X_train, X_test, y_train, y_test\n",
    "\n",
    "#Plot Label count for Train & Test data\n",
    "def plot_labelcount(X_train,X_test,y_train, y_test):\n",
    "    \n",
    "    temp_train= pd.concat([X_train, y_train], axis=1)\n",
    "    temp_train=pd.DataFrame(temp_train.status_binary.value_counts().reset_index()\n",
    "                       .rename({'index': 'Status', 'status_binary': 'Employee count'}, axis=1))\n",
    "    temp_train['Status']=temp_train['Status'].map({0:'Employed', 1:'Left'})\n",
    "    temp_train['Split']='Train'\n",
    "    \n",
    "    temp_test= pd.concat([X_test, y_test], axis=1)\n",
    "    temp_test=pd.DataFrame(temp_test.status_binary.value_counts().reset_index()\n",
    "                       .rename({'index': 'Status', 'status_binary': 'Employee count'}, axis=1))\n",
    "    temp_test['Status']=temp_test['Status'].map({0:'Employed', 1:'Left'})\n",
    "    temp_test['Split']='Test'\n",
    "    \n",
    "    #Union Train & Test Label Counts into a single dataframe\n",
    "    temp= pd.concat([temp_train, temp_test], axis=0)    \n",
    "    \n",
    "    sns.set_style(\"whitegrid\") \n",
    "    ax=sns.barplot(x=\"Split\", y=\"Employee count\", hue=\"Status\", data=temp)      \n",
    "    for container in ax.containers:\n",
    "        ax.bar_label(container)\n",
    "\n",
    "\n",
    "#Model and Classification Report\n",
    "def Model(X_train, X_test, y_train,y_test):\n",
    "    \n",
    "    #Model Build\n",
    "    lr= LogisticRegression(max_iter= 90)\n",
    "    lr.fit(X_train, y_train)\n",
    "    y_pred=lr.predict(X_test)\n",
    "\n",
    "    #Classification Report\n",
    "    print(\"Classification Report:\\n\",classification_report(y_test, y_pred))\n",
    "    \n",
    "    return y_pred\n",
    "    "
   ]
  },
  {
   "cell_type": "markdown",
   "metadata": {},
   "source": [
    "#### Case 1: Undersample the majority class after performing Train/Test split for the model"
   ]
  },
  {
   "cell_type": "code",
   "execution_count": 118,
   "metadata": {},
   "outputs": [
    {
     "data": {
      "image/png": "[encoded data removed]",
      "text/plain": [
       "<Figure size 432x288 with 1 Axes>"
      ]
     },
     "metadata": {},
     "output_type": "display_data"
    }
   ],
   "source": [
    "#Train-Test Split before undersampling\n",
    "X_train2, X_test2, y_train2, y_test2= Train_Test_Split(df)\n",
    "\n",
    "#plot Train-Test Label distributions  \n",
    "plot_labelcount(X_train2, X_test2, y_train2, y_test2)"
   ]
  },
  {
   "cell_type": "code",
   "execution_count": 120,
   "metadata": {},
   "outputs": [
    {
     "name": "stdout",
     "output_type": "stream",
     "text": [
      "Shape of the Undersampled dataframe:  (4720, 18)\n",
      "Prediction Label counts\n",
      "0    2360\n",
      "1    2360\n",
      "Name: status_binary, dtype: int64\n"
     ]
    },
    {
     "data": {
      "image/png": "[encoded data removed]",
      "text/plain": [
       "<Figure size 432x288 with 1 Axes>"
      ]
     },
     "metadata": {},
     "output_type": "display_data"
    }
   ],
   "source": [
    "#Train data- Combine X_train_under2 and y_train_under2 into train dataframe\n",
    "df_train2= pd.concat([X_train2, y_train2], axis=1)\n",
    "\n",
    "#Undersampling majority class only on  Train data\n",
    "df_train_under2= Undersampling(df_train2)\n",
    "\n",
    "#Split df_train_under2 into X_train_under2, y_train_under2\n",
    "X_train_under2, y_train_under2= df_train_under2.drop(['status_binary'], axis=1),  df_train_under2['status_binary']\n",
    "\n",
    "#plot Train-Test Label distributions  \n",
    "plot_labelcount(X_train_under2, X_test2, y_train_under2, y_test2)"
   ]
  },
  {
   "cell_type": "code",
   "execution_count": 104,
   "metadata": {},
   "outputs": [
    {
     "name": "stdout",
     "output_type": "stream",
     "text": [
      "Classification Report:\n",
      "               precision    recall  f1-score   support\n",
      "\n",
      "           0       0.89      0.73      0.80      1825\n",
      "           1       0.46      0.71      0.56       590\n",
      "\n",
      "   micro avg       0.73      0.73      0.73      2415\n",
      "   macro avg       0.67      0.72      0.68      2415\n",
      "weighted avg       0.78      0.73      0.74      2415\n",
      "\n"
     ]
    },
    {
     "data": {
      "text/plain": [
       "array([1, 0, 1, ..., 0, 1, 1], dtype=int64)"
      ]
     },
     "execution_count": 104,
     "metadata": {},
     "output_type": "execute_result"
    }
   ],
   "source": [
    "#Model & Classification Report\n",
    "\n",
    "Model(X_train_under2, X_test2, y_train_under2, y_test2)"
   ]
  },
  {
   "cell_type": "markdown",
   "metadata": {},
   "source": [
    "#### Case 2: Undersample the majority class before performing Train/Test split for the model"
   ]
  },
  {
   "cell_type": "code",
   "execution_count": 121,
   "metadata": {},
   "outputs": [
    {
     "name": "stdout",
     "output_type": "stream",
     "text": [
      "Shape of the Undersampled dataframe:  (5900, 19)\n",
      "Prediction Label counts\n",
      "0    2950\n",
      "1    2950\n",
      "Name: status_binary, dtype: int64\n"
     ]
    },
    {
     "data": {
      "text/html": [
       "<div>\n",
       "<style scoped>\n",
       "    .dataframe tbody tr th:only-of-type {\n",
       "        vertical-align: middle;\n",
       "    }\n",
       "\n",
       "    .dataframe tbody tr th {\n",
       "        vertical-align: top;\n",
       "    }\n",
       "\n",
       "    .dataframe thead th {\n",
       "        text-align: right;\n",
       "    }\n",
       "</style>\n",
       "<table border=\"1\" class=\"dataframe\">\n",
       "  <thead>\n",
       "    <tr style=\"text-align: right;\">\n",
       "      <th></th>\n",
       "      <th>avg_monthly_hrs</th>\n",
       "      <th>last_evaluation</th>\n",
       "      <th>n_projects</th>\n",
       "      <th>salary</th>\n",
       "      <th>satisfaction</th>\n",
       "      <th>status</th>\n",
       "      <th>tenure</th>\n",
       "      <th>IT</th>\n",
       "      <th>admin</th>\n",
       "      <th>engineering</th>\n",
       "      <th>finance</th>\n",
       "      <th>information_technology</th>\n",
       "      <th>management</th>\n",
       "      <th>marketing</th>\n",
       "      <th>procurement</th>\n",
       "      <th>product</th>\n",
       "      <th>sales</th>\n",
       "      <th>support</th>\n",
       "      <th>status_binary</th>\n",
       "    </tr>\n",
       "  </thead>\n",
       "  <tbody>\n",
       "    <tr>\n",
       "      <th>10906</th>\n",
       "      <td>230</td>\n",
       "      <td>0.752341</td>\n",
       "      <td>3</td>\n",
       "      <td>0</td>\n",
       "      <td>0.786881</td>\n",
       "      <td>Employed</td>\n",
       "      <td>2.0</td>\n",
       "      <td>0</td>\n",
       "      <td>0</td>\n",
       "      <td>0</td>\n",
       "      <td>0</td>\n",
       "      <td>0</td>\n",
       "      <td>0</td>\n",
       "      <td>0</td>\n",
       "      <td>0</td>\n",
       "      <td>0</td>\n",
       "      <td>1</td>\n",
       "      <td>0</td>\n",
       "      <td>0</td>\n",
       "    </tr>\n",
       "    <tr>\n",
       "      <th>92</th>\n",
       "      <td>211</td>\n",
       "      <td>0.947729</td>\n",
       "      <td>4</td>\n",
       "      <td>2</td>\n",
       "      <td>0.355980</td>\n",
       "      <td>Employed</td>\n",
       "      <td>7.0</td>\n",
       "      <td>0</td>\n",
       "      <td>0</td>\n",
       "      <td>0</td>\n",
       "      <td>0</td>\n",
       "      <td>0</td>\n",
       "      <td>0</td>\n",
       "      <td>0</td>\n",
       "      <td>0</td>\n",
       "      <td>0</td>\n",
       "      <td>1</td>\n",
       "      <td>0</td>\n",
       "      <td>0</td>\n",
       "    </tr>\n",
       "    <tr>\n",
       "      <th>4254</th>\n",
       "      <td>229</td>\n",
       "      <td>0.773862</td>\n",
       "      <td>3</td>\n",
       "      <td>2</td>\n",
       "      <td>0.812341</td>\n",
       "      <td>Employed</td>\n",
       "      <td>7.0</td>\n",
       "      <td>0</td>\n",
       "      <td>0</td>\n",
       "      <td>0</td>\n",
       "      <td>0</td>\n",
       "      <td>0</td>\n",
       "      <td>1</td>\n",
       "      <td>0</td>\n",
       "      <td>0</td>\n",
       "      <td>0</td>\n",
       "      <td>0</td>\n",
       "      <td>0</td>\n",
       "      <td>0</td>\n",
       "    </tr>\n",
       "    <tr>\n",
       "      <th>4747</th>\n",
       "      <td>223</td>\n",
       "      <td>0.624450</td>\n",
       "      <td>4</td>\n",
       "      <td>0</td>\n",
       "      <td>0.963443</td>\n",
       "      <td>Employed</td>\n",
       "      <td>10.0</td>\n",
       "      <td>1</td>\n",
       "      <td>0</td>\n",
       "      <td>0</td>\n",
       "      <td>0</td>\n",
       "      <td>0</td>\n",
       "      <td>0</td>\n",
       "      <td>0</td>\n",
       "      <td>0</td>\n",
       "      <td>0</td>\n",
       "      <td>0</td>\n",
       "      <td>0</td>\n",
       "      <td>0</td>\n",
       "    </tr>\n",
       "    <tr>\n",
       "      <th>3745</th>\n",
       "      <td>155</td>\n",
       "      <td>0.987076</td>\n",
       "      <td>6</td>\n",
       "      <td>1</td>\n",
       "      <td>0.885828</td>\n",
       "      <td>Employed</td>\n",
       "      <td>5.0</td>\n",
       "      <td>0</td>\n",
       "      <td>0</td>\n",
       "      <td>0</td>\n",
       "      <td>0</td>\n",
       "      <td>0</td>\n",
       "      <td>0</td>\n",
       "      <td>0</td>\n",
       "      <td>0</td>\n",
       "      <td>1</td>\n",
       "      <td>0</td>\n",
       "      <td>0</td>\n",
       "      <td>0</td>\n",
       "    </tr>\n",
       "  </tbody>\n",
       "</table>\n",
       "</div>"
      ],
      "text/plain": [
       "       avg_monthly_hrs  last_evaluation  n_projects  salary  satisfaction  \\\n",
       "10906              230         0.752341           3       0      0.786881   \n",
       "92                 211         0.947729           4       2      0.355980   \n",
       "4254               229         0.773862           3       2      0.812341   \n",
       "4747               223         0.624450           4       0      0.963443   \n",
       "3745               155         0.987076           6       1      0.885828   \n",
       "\n",
       "         status  tenure  IT  admin  engineering  finance  \\\n",
       "10906  Employed     2.0   0      0            0        0   \n",
       "92     Employed     7.0   0      0            0        0   \n",
       "4254   Employed     7.0   0      0            0        0   \n",
       "4747   Employed    10.0   1      0            0        0   \n",
       "3745   Employed     5.0   0      0            0        0   \n",
       "\n",
       "       information_technology  management  marketing  procurement  product  \\\n",
       "10906                       0           0          0            0        0   \n",
       "92                          0           0          0            0        0   \n",
       "4254                        0           1          0            0        0   \n",
       "4747                        0           0          0            0        0   \n",
       "3745                        0           0          0            0        1   \n",
       "\n",
       "       sales  support  status_binary  \n",
       "10906      1        0              0  \n",
       "92         1        0              0  \n",
       "4254       0        0              0  \n",
       "4747       0        0              0  \n",
       "3745       0        0              0  "
      ]
     },
     "execution_count": 121,
     "metadata": {},
     "output_type": "execute_result"
    }
   ],
   "source": [
    "#Undersampled dataframe\n",
    "df_under1= Undersampling(df)\n",
    "df_under1.head()"
   ]
  },
  {
   "cell_type": "code",
   "execution_count": 153,
   "metadata": {},
   "outputs": [
    {
     "data": {
      "image/png": "[encoded data removed]",
      "text/plain": [
       "<Figure size 432x288 with 1 Axes>"
      ]
     },
     "metadata": {},
     "output_type": "display_data"
    }
   ],
   "source": [
    "temp= pd.DataFrame(df_under1.status_binary.value_counts().reset_index()\n",
    "                   .rename({'index': 'Status', 'status_binary': 'Employee count'}, axis=1))\n",
    "\n",
    "temp['Status']=temp['Status'].map({0:'Employed', 1:'Left'})\n",
    "sns.set_style(\"whitegrid\")\n",
    "ax=sns.barplot(x = 'Status', y = 'Employee count',data = temp)\n",
    "ax.bar_label(ax.containers[0])\n",
    "ax.set_title('Dataframe Label Distribution at glance after Undersampling', fontsize=13)\n",
    "plt.show()"
   ]
  },
  {
   "cell_type": "code",
   "execution_count": 122,
   "metadata": {
    "scrolled": true
   },
   "outputs": [
    {
     "data": {
      "image/png": "[encoded data removed]",
      "text/plain": [
       "<Figure size 432x288 with 1 Axes>"
      ]
     },
     "metadata": {},
     "output_type": "display_data"
    }
   ],
   "source": [
    "#Split the Undersampled dataset into Train & Test\n",
    "X_train_under1, X_test_under1, y_train_under1, y_test_under1= Train_Test_Split(df_under1)\n",
    "\n",
    "#plot Train-Test Label distributions  \n",
    "plot_labelcount(X_train_under1, X_test_under1, y_train_under1, y_test_under1)"
   ]
  },
  {
   "cell_type": "code",
   "execution_count": 123,
   "metadata": {},
   "outputs": [
    {
     "name": "stdout",
     "output_type": "stream",
     "text": [
      "Classification Report:\n",
      "               precision    recall  f1-score   support\n",
      "\n",
      "           0       0.72      0.72      0.72       590\n",
      "           1       0.72      0.72      0.72       590\n",
      "\n",
      "   micro avg       0.72      0.72      0.72      1180\n",
      "   macro avg       0.72      0.72      0.72      1180\n",
      "weighted avg       0.72      0.72      0.72      1180\n",
      "\n"
     ]
    },
    {
     "data": {
      "text/plain": [
       "array([1, 1, 0, ..., 0, 0, 1], dtype=int64)"
      ]
     },
     "execution_count": 123,
     "metadata": {},
     "output_type": "execute_result"
    }
   ],
   "source": [
    "#Model & Classification Report\n",
    "Model(X_train_under1, X_test_under1, y_train_under1, y_test_under1)"
   ]
  },
  {
   "cell_type": "markdown",
   "metadata": {},
   "source": [
    "#### Analysis for Undersampling:\n",
    "It looks like the f1-score has increased for **Case2 model-(Undersampling entire data before Train-Test split)** as compared to **Case1 model-(Undersampling only Train data after Train-Test split)**\n",
    "\n",
    "But if we take a close look, f1-score, recall, precision are all calculated based on the number of underlying class samples distribution.\n",
    "\n",
    "The main reason we see the **increase in f1-score in Case-2** is because the mathematical formula calculating precision & recall values takes into consideration the ***fewer class'0' samples from Case-2 as opposed to larger class'0' samples from Case-1***. Hence inflating the numbers and the appearance of better model with the increased f1-score.\n",
    "\n",
    "Since the **real-world scenario will be closer to Case-1 than Case-2** where we most likely do not expect to predict a balanced class for Employee Churn Prediction, **it is best to proceed with Case-1 model and to always perform Undersampling only on Train data** after the Train-Test split."
   ]
  },
  {
   "cell_type": "markdown",
   "metadata": {},
   "source": [
    "## OverSampling"
   ]
  },
  {
   "cell_type": "markdown",
   "metadata": {},
   "source": [
    "#### Case 3: Oversample the minority class after performing Train/Test split for the model"
   ]
  },
  {
   "cell_type": "code",
   "execution_count": 141,
   "metadata": {},
   "outputs": [
    {
     "data": {
      "image/png": "[encoded data removed]",
      "text/plain": [
       "<Figure size 432x288 with 1 Axes>"
      ]
     },
     "metadata": {},
     "output_type": "display_data"
    }
   ],
   "source": [
    "#Train-Test Split before Oversampling\n",
    "\n",
    "X_train2, X_test2, y_train2, y_test2= Train_Test_Split(df)\n",
    "plot_labelcount(X_train2, X_test2, y_train2, y_test2)"
   ]
  },
  {
   "cell_type": "code",
   "execution_count": 142,
   "metadata": {},
   "outputs": [
    {
     "name": "stdout",
     "output_type": "stream",
     "text": [
      "Shape of the Undersampled dataframe:  (14600, 18)\n",
      "Prediction Label counts\n",
      "0    7300\n",
      "1    7300\n",
      "Name: status_binary, dtype: int64\n"
     ]
    }
   ],
   "source": [
    "#Train data- Combine X_train_under2 and y_train_under2 into train dataframe\n",
    "df_train2= pd.concat([X_train2, y_train2], axis=1)\n",
    "\n",
    "#Undersampling majority class only on  Train data\n",
    "\n",
    "df_train_over2= Oversampling(df_train2)\n",
    "df_train_over2.head()\n",
    "\n",
    "#Split df_train_under2 into X_train_under2, y_train_under2\n",
    "\n",
    "X_train_over2, y_train_over2= df_train_over2.drop(['status_binary'], axis=1),  df_train_over2['status_binary']"
   ]
  },
  {
   "cell_type": "code",
   "execution_count": 143,
   "metadata": {},
   "outputs": [
    {
     "data": {
      "image/png": "[encoded data removed]",
      "text/plain": [
       "<Figure size 432x288 with 1 Axes>"
      ]
     },
     "metadata": {},
     "output_type": "display_data"
    }
   ],
   "source": [
    "#plot Train-Test Label distributions after Oversampling\n",
    "plot_labelcount(X_train_over2, X_test2, y_train_over2, y_test2)"
   ]
  },
  {
   "cell_type": "code",
   "execution_count": 115,
   "metadata": {},
   "outputs": [
    {
     "name": "stdout",
     "output_type": "stream",
     "text": [
      "Classification Report:\n",
      "               precision    recall  f1-score   support\n",
      "\n",
      "           0       0.88      0.73      0.80      1825\n",
      "           1       0.46      0.69      0.55       590\n",
      "\n",
      "   micro avg       0.72      0.72      0.72      2415\n",
      "   macro avg       0.67      0.71      0.67      2415\n",
      "weighted avg       0.78      0.72      0.74      2415\n",
      "\n"
     ]
    },
    {
     "data": {
      "text/plain": [
       "array([1, 0, 1, ..., 0, 1, 1], dtype=int64)"
      ]
     },
     "execution_count": 115,
     "metadata": {},
     "output_type": "execute_result"
    }
   ],
   "source": [
    "#Model & Classification Report\n",
    "\n",
    "Model(X_train_over2, X_test2, y_train_over2, y_test2)"
   ]
  },
  {
   "cell_type": "markdown",
   "metadata": {},
   "source": [
    "#### Case 4: Oversample the minority class before performing Train/Test split for the model"
   ]
  },
  {
   "cell_type": "code",
   "execution_count": 105,
   "metadata": {},
   "outputs": [
    {
     "name": "stdout",
     "output_type": "stream",
     "text": [
      "Shape of the Undersampled dataframe:  (18250, 19)\n",
      "Prediction Label counts\n",
      "0    9125\n",
      "1    9125\n",
      "Name: status_binary, dtype: int64\n"
     ]
    },
    {
     "data": {
      "text/html": [
       "<div>\n",
       "<style scoped>\n",
       "    .dataframe tbody tr th:only-of-type {\n",
       "        vertical-align: middle;\n",
       "    }\n",
       "\n",
       "    .dataframe tbody tr th {\n",
       "        vertical-align: top;\n",
       "    }\n",
       "\n",
       "    .dataframe thead th {\n",
       "        text-align: right;\n",
       "    }\n",
       "</style>\n",
       "<table border=\"1\" class=\"dataframe\">\n",
       "  <thead>\n",
       "    <tr style=\"text-align: right;\">\n",
       "      <th></th>\n",
       "      <th>avg_monthly_hrs</th>\n",
       "      <th>last_evaluation</th>\n",
       "      <th>n_projects</th>\n",
       "      <th>salary</th>\n",
       "      <th>satisfaction</th>\n",
       "      <th>status</th>\n",
       "      <th>tenure</th>\n",
       "      <th>IT</th>\n",
       "      <th>admin</th>\n",
       "      <th>engineering</th>\n",
       "      <th>finance</th>\n",
       "      <th>information_technology</th>\n",
       "      <th>management</th>\n",
       "      <th>marketing</th>\n",
       "      <th>procurement</th>\n",
       "      <th>product</th>\n",
       "      <th>sales</th>\n",
       "      <th>support</th>\n",
       "      <th>status_binary</th>\n",
       "    </tr>\n",
       "  </thead>\n",
       "  <tbody>\n",
       "    <tr>\n",
       "      <th>1</th>\n",
       "      <td>184</td>\n",
       "      <td>0.788830</td>\n",
       "      <td>3</td>\n",
       "      <td>1</td>\n",
       "      <td>0.834988</td>\n",
       "      <td>Employed</td>\n",
       "      <td>3.0</td>\n",
       "      <td>0</td>\n",
       "      <td>0</td>\n",
       "      <td>0</td>\n",
       "      <td>0</td>\n",
       "      <td>0</td>\n",
       "      <td>0</td>\n",
       "      <td>0</td>\n",
       "      <td>0</td>\n",
       "      <td>0</td>\n",
       "      <td>1</td>\n",
       "      <td>0</td>\n",
       "      <td>0</td>\n",
       "    </tr>\n",
       "    <tr>\n",
       "      <th>2</th>\n",
       "      <td>206</td>\n",
       "      <td>0.575688</td>\n",
       "      <td>4</td>\n",
       "      <td>0</td>\n",
       "      <td>0.424764</td>\n",
       "      <td>Employed</td>\n",
       "      <td>2.0</td>\n",
       "      <td>0</td>\n",
       "      <td>0</td>\n",
       "      <td>0</td>\n",
       "      <td>0</td>\n",
       "      <td>0</td>\n",
       "      <td>0</td>\n",
       "      <td>0</td>\n",
       "      <td>0</td>\n",
       "      <td>0</td>\n",
       "      <td>1</td>\n",
       "      <td>0</td>\n",
       "      <td>0</td>\n",
       "    </tr>\n",
       "    <tr>\n",
       "      <th>3</th>\n",
       "      <td>249</td>\n",
       "      <td>0.845217</td>\n",
       "      <td>3</td>\n",
       "      <td>0</td>\n",
       "      <td>0.779043</td>\n",
       "      <td>Employed</td>\n",
       "      <td>3.0</td>\n",
       "      <td>0</td>\n",
       "      <td>0</td>\n",
       "      <td>0</td>\n",
       "      <td>0</td>\n",
       "      <td>0</td>\n",
       "      <td>0</td>\n",
       "      <td>0</td>\n",
       "      <td>0</td>\n",
       "      <td>0</td>\n",
       "      <td>1</td>\n",
       "      <td>0</td>\n",
       "      <td>0</td>\n",
       "    </tr>\n",
       "    <tr>\n",
       "      <th>4</th>\n",
       "      <td>140</td>\n",
       "      <td>0.589097</td>\n",
       "      <td>4</td>\n",
       "      <td>1</td>\n",
       "      <td>0.660020</td>\n",
       "      <td>Employed</td>\n",
       "      <td>4.0</td>\n",
       "      <td>0</td>\n",
       "      <td>0</td>\n",
       "      <td>0</td>\n",
       "      <td>0</td>\n",
       "      <td>0</td>\n",
       "      <td>0</td>\n",
       "      <td>0</td>\n",
       "      <td>0</td>\n",
       "      <td>0</td>\n",
       "      <td>1</td>\n",
       "      <td>0</td>\n",
       "      <td>0</td>\n",
       "    </tr>\n",
       "    <tr>\n",
       "      <th>5</th>\n",
       "      <td>121</td>\n",
       "      <td>0.625399</td>\n",
       "      <td>3</td>\n",
       "      <td>0</td>\n",
       "      <td>0.835571</td>\n",
       "      <td>Employed</td>\n",
       "      <td>3.0</td>\n",
       "      <td>0</td>\n",
       "      <td>0</td>\n",
       "      <td>0</td>\n",
       "      <td>0</td>\n",
       "      <td>0</td>\n",
       "      <td>0</td>\n",
       "      <td>0</td>\n",
       "      <td>0</td>\n",
       "      <td>0</td>\n",
       "      <td>1</td>\n",
       "      <td>0</td>\n",
       "      <td>0</td>\n",
       "    </tr>\n",
       "  </tbody>\n",
       "</table>\n",
       "</div>"
      ],
      "text/plain": [
       "   avg_monthly_hrs  last_evaluation  n_projects  salary  satisfaction  \\\n",
       "1              184         0.788830           3       1      0.834988   \n",
       "2              206         0.575688           4       0      0.424764   \n",
       "3              249         0.845217           3       0      0.779043   \n",
       "4              140         0.589097           4       1      0.660020   \n",
       "5              121         0.625399           3       0      0.835571   \n",
       "\n",
       "     status  tenure  IT  admin  engineering  finance  information_technology  \\\n",
       "1  Employed     3.0   0      0            0        0                       0   \n",
       "2  Employed     2.0   0      0            0        0                       0   \n",
       "3  Employed     3.0   0      0            0        0                       0   \n",
       "4  Employed     4.0   0      0            0        0                       0   \n",
       "5  Employed     3.0   0      0            0        0                       0   \n",
       "\n",
       "   management  marketing  procurement  product  sales  support  status_binary  \n",
       "1           0          0            0        0      1        0              0  \n",
       "2           0          0            0        0      1        0              0  \n",
       "3           0          0            0        0      1        0              0  \n",
       "4           0          0            0        0      1        0              0  \n",
       "5           0          0            0        0      1        0              0  "
      ]
     },
     "execution_count": 105,
     "metadata": {},
     "output_type": "execute_result"
    }
   ],
   "source": [
    "#Oversample minorty class\n",
    "df_over1=Oversampling(df)\n",
    "df_over1.head()"
   ]
  },
  {
   "cell_type": "code",
   "execution_count": 152,
   "metadata": {},
   "outputs": [
    {
     "data": {
      "image/png": "[encoded data removed]",
      "text/plain": [
       "<Figure size 432x288 with 1 Axes>"
      ]
     },
     "metadata": {},
     "output_type": "display_data"
    }
   ],
   "source": [
    "temp= pd.DataFrame(df_over1.status_binary.value_counts().reset_index()\n",
    "                   .rename({'index': 'Status', 'status_binary': 'Employee count'}, axis=1))\n",
    "\n",
    "temp['Status']=temp['Status'].map({0:'Employed', 1:'Left'})\n",
    "sns.set_style(\"whitegrid\")\n",
    "ax=sns.barplot(x = 'Status', y = 'Employee count',data = temp)\n",
    "ax.bar_label(ax.containers[0])\n",
    "ax.set_title('Dataframe Label Distribution at glance after Oversampling', fontsize=13)\n",
    "plt.show()"
   ]
  },
  {
   "cell_type": "code",
   "execution_count": 106,
   "metadata": {
    "scrolled": true
   },
   "outputs": [
    {
     "name": "stdout",
     "output_type": "stream",
     "text": [
      "Train data shape: (14600, 17) (14600,)\n",
      "Test data shape: (3650, 17) (3650,)\n"
     ]
    },
    {
     "data": {
      "image/png": "[encoded data removed]",
      "text/plain": [
       "<Figure size 432x288 with 1 Axes>"
      ]
     },
     "metadata": {},
     "output_type": "display_data"
    }
   ],
   "source": [
    "#Split the Oversampled dataset into Train & Test \n",
    "X_train_over1, X_test_over1, y_train_over1, y_test_over1= Train_Test_Split(df_over1)\n",
    "\n",
    "#Plot Train-Test Label distributions  \n",
    "plot_labelcount(X_train_over1, X_test_over1, y_train_over1, y_test_over1)"
   ]
  },
  {
   "cell_type": "code",
   "execution_count": 107,
   "metadata": {},
   "outputs": [
    {
     "name": "stdout",
     "output_type": "stream",
     "text": [
      "Classification Report:\n",
      "               precision    recall  f1-score   support\n",
      "\n",
      "           0       0.73      0.73      0.73      1825\n",
      "           1       0.73      0.73      0.73      1825\n",
      "\n",
      "   micro avg       0.73      0.73      0.73      3650\n",
      "   macro avg       0.73      0.73      0.73      3650\n",
      "weighted avg       0.73      0.73      0.73      3650\n",
      "\n"
     ]
    },
    {
     "data": {
      "text/plain": [
       "array([0, 1, 1, ..., 1, 0, 1], dtype=int64)"
      ]
     },
     "execution_count": 107,
     "metadata": {},
     "output_type": "execute_result"
    }
   ],
   "source": [
    "#Model & Classification Report\n",
    "Model(X_train_over1, X_test_over1, y_train_over1, y_test_over1)"
   ]
  },
  {
   "cell_type": "markdown",
   "metadata": {},
   "source": [
    "#### Analysis for Oversampling:\n",
    "It looks like the f1-score has increased for **Case4 model-(Oversampling entire data before Train-Test split)** as compared to **Case3 model-(Oversampling only Train data after Train-Test split)**\n",
    "\n",
    "But, if we take a closer look, the main reason we see the **increase in f1-score in Case-4 model** is because of the ***data leakage of duplicated samples into training the model and testing on the same duplicated samples, thereby overfitting the model as opposed to no duplicate data leakage in Case-3 model***.\n",
    "\n",
    "Hence, **it is best to proceed with Case-3 model and to always apply Undersampling only to Train data** after the Train-Test split.\n"
   ]
  },
  {
   "cell_type": "code",
   "execution_count": null,
   "metadata": {},
   "outputs": [],
   "source": []
  }
 ],
 "metadata": {
  "kernelspec": {
   "display_name": "Python 3",
   "language": "python",
   "name": "python3"
  }
 },
 "nbformat": 4,
 "nbformat_minor": 2
}
